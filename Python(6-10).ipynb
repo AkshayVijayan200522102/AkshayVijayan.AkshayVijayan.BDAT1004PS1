{
 "cells": [
  {
   "cell_type": "markdown",
   "id": "831f587a",
   "metadata": {},
   "source": [
    "# Question 6"
   ]
  },
  {
   "cell_type": "code",
   "execution_count": 74,
   "id": "5eef1c92",
   "metadata": {},
   "outputs": [
    {
     "name": "stdout",
     "output_type": "stream",
     "text": [
      "appyhay\n",
      "enterway\n"
     ]
    }
   ],
   "source": [
    "# program to turn a word into pig-latin\n",
    "def pig(string):\n",
    "    vowel_list = ['a', 'e', 'i', 'o', 'u', 'A', 'E', 'I', 'O', 'U',]\n",
    "    if(string[0] in vowel_list):\n",
    "        string = string + \"way\"\n",
    "    else:\n",
    "       string =  string[1:] + string[0] + \"ay\"\n",
    "    print(string.lower())\n",
    "pig(\"happy\")\n",
    "pig(\"Enter\")"
   ]
  },
  {
   "cell_type": "markdown",
   "id": "50fc7c6e",
   "metadata": {},
   "source": [
    "# Question 7\n",
    "\n"
   ]
  },
  {
   "cell_type": "code",
   "execution_count": 75,
   "id": "4bcbadad",
   "metadata": {},
   "outputs": [
    {
     "name": "stdout",
     "output_type": "stream",
     "text": [
      "There are 15  patients of blood type A\n",
      "There are 1  patients of blood type B\n",
      "There are 13  patients of blood type AB\n",
      "There are 15  patients of blood type O\n",
      "There are no patients of blood type OO\n"
     ]
    }
   ],
   "source": [
    "# program to get the count of blood groups from the text file\n",
    "def bldcount(name):\n",
    "    f = open(name, 'r')\n",
    "    data = f.read().rstrip().split()\n",
    "    for i in [\"A\",\"B\",\"AB\",\"O\",\"OO\"]:\n",
    "        if data.count(i) > 0 :\n",
    "            print(\"There are\",str(data.count(i)), \" patients of blood type\",i)\n",
    "        else:\n",
    "            print(\"There are no patients of blood type\",i)       \n",
    "bldcount('bloodtype.txt')"
   ]
  },
  {
   "cell_type": "markdown",
   "id": "a1099d71",
   "metadata": {},
   "source": [
    "# Question 8"
   ]
  },
  {
   "cell_type": "code",
   "execution_count": 76,
   "id": "f268f00b",
   "metadata": {},
   "outputs": [
    {
     "name": "stdout",
     "output_type": "stream",
     "text": [
      "122.96544\n",
      "1.241401\n"
     ]
    }
   ],
   "source": [
    "# program to convert currency to USD based on a data in txt file\n",
    "def curconv(country_code , amount):\n",
    "    dictionary = {}\n",
    "    f = open('currencies.txt', 'r')\n",
    "    for line in f:\n",
    "        (key, value , country) = line.split(\"\\t\")\n",
    "        dictionary[key] = float(value)\n",
    "    print(amount * dictionary[country_code])\n",
    "    \n",
    "curconv('EUR',100)\n",
    "curconv('JPY',100)"
   ]
  },
  {
   "cell_type": "markdown",
   "id": "12c9a067",
   "metadata": {},
   "source": [
    "# Question 9"
   ]
  },
  {
   "cell_type": "markdown",
   "id": "5c3bfc16",
   "metadata": {},
   "source": [
    "### each of the following will cause an exception (an error). Identify what type of exception each will  cause.\n"
   ]
  },
  {
   "cell_type": "markdown",
   "id": "e69abf79",
   "metadata": {},
   "source": [
    "## Answer\n",
    "#### Trying to add incompatible variables, as in adding 6   +   'a '   - > Type error \n",
    "#### Referring to the 12ᵗʰ item of a list that has only 10 items   - > Index Error \n",
    "#### Using a value that is out of range for a function's input, such as calling math. sqrt ( -1. 0)   - > Type error \n",
    "#### Using an undeclared variable, such as print (x) when   x has not been defined   ->  Name Error \n",
    "#### Trying to open a file that does not exist, such as mistyping the file name or looking in the wrong  directory  - > FileNotFoundError\n"
   ]
  },
  {
   "cell_type": "markdown",
   "id": "5b0b4f01",
   "metadata": {},
   "source": [
    "# Question 10"
   ]
  },
  {
   "cell_type": "code",
   "execution_count": 77,
   "id": "1f57e7f9",
   "metadata": {},
   "outputs": [
    {
     "name": "stdout",
     "output_type": "stream",
     "text": [
      "[1, 1, 1, 3, 5, 1, 1, 2, 1, 0, 1, 0, 1, 2, 4, 0, 1, 2, 0, 2, 1, 0, 1, 1, 0, 0]\n",
      "[1, 0, 0, 0, 1, 0, 0, 0, 0, 0, 0, 1, 0, 0, 0, 2, 0, 0, 0, 0, 0, 0, 0, 0, 0, 0]\n"
     ]
    }
   ],
   "source": [
    "# program to find the frquency of letters in a string\n",
    "def frequencies(string):\n",
    "    letters = 'abcdefghijklmnopqrstuvwxyz'\n",
    "    list = []\n",
    "    for i in letters:\n",
    "        list.append(string.count(i))\n",
    "    print(list)\n",
    "    \n",
    "frequencies(\"The quick red fox got bored and went home.\")\n",
    "frequencies('apple')"
   ]
  }
 ],
 "metadata": {
  "kernelspec": {
   "display_name": "Python 3 (ipykernel)",
   "language": "python",
   "name": "python3"
  },
  "language_info": {
   "codemirror_mode": {
    "name": "ipython",
    "version": 3
   },
   "file_extension": ".py",
   "mimetype": "text/x-python",
   "name": "python",
   "nbconvert_exporter": "python",
   "pygments_lexer": "ipython3",
   "version": "3.9.12"
  }
 },
 "nbformat": 4,
 "nbformat_minor": 5
}
