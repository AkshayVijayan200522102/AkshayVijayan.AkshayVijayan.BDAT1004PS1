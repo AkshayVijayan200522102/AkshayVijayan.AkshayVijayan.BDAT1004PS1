{
 "cells": [
  {
   "cell_type": "markdown",
   "id": "bcc1639d",
   "metadata": {},
   "source": [
    "# Question1\n",
    "\n",
    "data type of 5  = int <br/>\n",
    "data type of 5.0  =  float <br/>\n",
    "data type of 5 > 1 =  bool <br/>\n",
    "data type of '5' =  str <br/>\n",
    "data type of 5*2 =  int <br/>\n",
    "data type of '5' * 2  =  str <br/>\n",
    "data type of '5' + '2' =  str <br/>\n",
    "data type of 5/2 =  float <br/>\n",
    "data type of 5%2 =  int <br/>\n",
    "data type of {5,2,1} =  set <br/>\n",
    "data type of 5==3  =  bool <br/>\n",
    "data type of pi =  double\n"
   ]
  },
  {
   "cell_type": "markdown",
   "id": "99179606",
   "metadata": {},
   "source": [
    "# Question 2\n"
   ]
  },
  {
   "cell_type": "code",
   "execution_count": 2,
   "id": "713ea10e",
   "metadata": {
    "scrolled": true
   },
   "outputs": [
    {
     "name": "stdout",
     "output_type": "stream",
     "text": [
      "a) The length of 'Supercalifragisticexpialidocious' is 32\n",
      "b) Yes, the string 'Supercalifragisticexpialidocious' contains ice as a substring\n",
      "c) The longest string among the given 3 is Bababadalgharaghtakamminarronnkonn\n",
      "d) The first composer name that comes in the dictionary is is Bartok and the last one is Buxtehude\n"
     ]
    }
   ],
   "source": [
    "/* a */\n",
    "\n",
    "string str = \"Supercalifragisticexpialidocious\";\n",
    "Console.WriteLine(\"a) The length of '{0}' is {1}\", str, str.Length);\n",
    "\n",
    "/* b */\n",
    "\n",
    "if(str.Contains(\"ice\"))\n",
    "{\n",
    "Console.WriteLine(\"b) Yes, the string '{0}' contains {1} as a substring\", str, \"ice\");\n",
    "}\n",
    "else\n",
    "{\n",
    "Console.WriteLine(\"b) No, the string '{0}' does not contain {1} as a substring\", str, \"ice\");\n",
    "}\n",
    "\n",
    "/* c */\n",
    "\n",
    "string str1 = \"upercalifragilisticexpialidocious\";\n",
    "string str2 = \"Honorificabilitudinitatibus\";\n",
    "string str3 = \"Bababadalgharaghtakamminarronnkonn\";\n",
    "if (str1.Length > str2.Length)\n",
    "{\n",
    "    if(str1.Length > str3.Length)\n",
    "    {\n",
    "        Console.WriteLine(\"c) The longest string among the given 3 is {0}\", str1);\n",
    "    }\n",
    "    else\n",
    "    {\n",
    "       Console.WriteLine(\"c) The longest string among the given 3 is {0}\", str3); \n",
    "    }\n",
    "}\n",
    "else\n",
    "{\n",
    "     if(str2.Length > str3.Length)\n",
    "    {\n",
    "        Console.WriteLine(\"c) The longest string among the given 3 is {0}\", str2);\n",
    "    }\n",
    "    else\n",
    "    {\n",
    "       Console.WriteLine(\"c) The longest string among the given 3 is {0}\", str3); \n",
    "    }\n",
    "}\n",
    "\n",
    "/* d */\n",
    "\n",
    "string[] composers =  {\"Berlioz\", \"Borodin\", \"Brian\", \"Bartok\", \"Bellini\", \"Buxtehude\", \"Bernstein\"};\n",
    "Array.Sort(composers);\n",
    "Console.WriteLine(\"d) The first composer name that comes in the dictionary is is {0} and the last one is {1}\", composers[0],composers[composers.Length - 1]); \n",
    "    \n",
    "    \n"
   ]
  },
  {
   "cell_type": "markdown",
   "id": "adea64c2",
   "metadata": {},
   "source": [
    "# Question 3"
   ]
  },
  {
   "cell_type": "code",
   "execution_count": 14,
   "id": "cd099bef",
   "metadata": {},
   "outputs": [
    {
     "name": "stdout",
     "output_type": "stream",
     "text": [
      "1.7320508075688772\r\n"
     ]
    }
   ],
   "source": [
    "/* program to find area of a triangle using heron's formula */\n",
    "\n",
    "/*defining the function */\n",
    "static void triangleArea(int a, int b,int c) \n",
    "{\n",
    "  double s = (a+b+c)/2;\n",
    "  Console.WriteLine (Math.Sqrt(s*(s-a*(s-b*(s-c)))));\n",
    "}\n",
    "\n",
    "/*function call */\n",
    "triangleArea(2,2,2);\n"
   ]
  },
  {
   "cell_type": "markdown",
   "id": "54c37e94",
   "metadata": {},
   "source": [
    "# Question 4"
   ]
  },
  {
   "cell_type": "code",
   "execution_count": 18,
   "id": "bc0e0a10",
   "metadata": {},
   "outputs": [
    {
     "name": "stdout",
     "output_type": "stream",
     "text": [
      "input the number of elements to be stored in the array : 5 \n",
      "input 5 elements in the array : \n",
      "element - 0 : 25\n",
      "element - 1 : 47\n",
      "element - 2 : 42\n",
      "element - 3 : 56\n",
      "element - 4 : 32\n",
      "The odd elements are\n",
      "25 47 \n",
      "The odd elements are\n",
      "42 56 32 "
     ]
    }
   ],
   "source": [
    "/*program to seperate odd and even integer arrays */\n",
    "\n",
    "Console.WriteLine(\"input the number of elements to be stored in the array : 5 \");\n",
    "int a = 5 ;\n",
    "Console.WriteLine(\"input 5 elements in the array : \");\n",
    "Console.WriteLine(\"element - 0 : 25\");\n",
    "Console.WriteLine(\"element - 1 : 47\");\n",
    "Console.WriteLine(\"element - 2 : 42\");\n",
    "Console.WriteLine(\"element - 3 : 56\");\n",
    "Console.WriteLine(\"element - 4 : 32\");\n",
    "\n",
    "int[] numbers = {25,47,42,56,32};\n",
    "List<int> odd = new List<int>();\n",
    "List<int> even = new List<int>();\n",
    "\n",
    "foreach (int i in numbers)\n",
    "{\n",
    "   if (i%2 == 0)\n",
    "   {\n",
    "       even.Add(i);\n",
    "   }\n",
    "    else\n",
    "    {\n",
    "       odd.Add(i);\n",
    "    }\n",
    "}\n",
    "Console.WriteLine(\"The odd elements are\");\n",
    "foreach (int j in odd)\n",
    "{\n",
    "    Console.Write(j+\" \");      \n",
    "}\n",
    "\n",
    "Console.WriteLine( \"\\nThe odd elements are\");\n",
    "foreach (int k in even)\n",
    "{\n",
    "    Console.Write(k +\" \");      \n",
    "}"
   ]
  },
  {
   "cell_type": "markdown",
   "id": "2d1faf78",
   "metadata": {},
   "source": [
    "# Question 5a"
   ]
  },
  {
   "cell_type": "code",
   "execution_count": 19,
   "id": "68a41390",
   "metadata": {},
   "outputs": [
    {
     "name": "stdout",
     "output_type": "stream",
     "text": [
      "True\n",
      "False\n"
     ]
    }
   ],
   "source": [
    "/* program to find whether point x,y is inside a rectangle with corner points x1,y1 and x2,y2 */\n",
    "\n",
    "public static void inside(double x,double y,double x1,double y1,double x2,double y2) \n",
    "{\n",
    "  if(x>x1 & y>y1 & x<x2 & y<y2)\n",
    "  {\n",
    "      Console.WriteLine(\"True\");\n",
    "  }\n",
    "    \n",
    "  else\n",
    "  {\n",
    "      Console.WriteLine(\"False\");\n",
    "  }\n",
    "}\n",
    "\n",
    "inside(1,1,0,0,2,3);\n",
    "inside(-1,-1,0,0,2,3);"
   ]
  },
  {
   "cell_type": "markdown",
   "id": "32ea5a99",
   "metadata": {},
   "source": [
    "# Question 5b"
   ]
  },
  {
   "cell_type": "code",
   "execution_count": 13,
   "id": "f505c47b",
   "metadata": {},
   "outputs": [
    {
     "name": "stdout",
     "output_type": "stream",
     "text": [
      "False\n",
      "True\n"
     ]
    }
   ],
   "source": [
    "inside(1,1,0.3,0.5,1.1,0.7);\n",
    "inside(1,1,0.5,0.2,1.1,2);"
   ]
  }
 ],
 "metadata": {
  "kernelspec": {
   "display_name": ".NET (C#)",
   "language": "C#",
   "name": ".net-csharp"
  },
  "language_info": {
   "file_extension": ".cs",
   "mimetype": "text/x-csharp",
   "name": "C#",
   "pygments_lexer": "csharp",
   "version": "8.0"
  }
 },
 "nbformat": 4,
 "nbformat_minor": 5
}
